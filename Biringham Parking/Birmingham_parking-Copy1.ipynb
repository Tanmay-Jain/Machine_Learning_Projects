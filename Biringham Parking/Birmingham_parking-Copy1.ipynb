{
 "cells": [
  {
   "cell_type": "markdown",
   "metadata": {},
   "source": [
    "## Importing Necessary Packages "
   ]
  },
  {
   "cell_type": "code",
   "execution_count": 1,
   "metadata": {},
   "outputs": [],
   "source": [
    "import pandas as pd"
   ]
  },
  {
   "cell_type": "code",
   "execution_count": 2,
   "metadata": {},
   "outputs": [],
   "source": [
    "#Reading file\n",
    "data = pd.read_csv(\"dataset.csv\")"
   ]
  },
  {
   "cell_type": "markdown",
   "metadata": {},
   "source": [
    "## Exploratory Data Analysis"
   ]
  },
  {
   "cell_type": "code",
   "execution_count": 3,
   "metadata": {
    "scrolled": true
   },
   "outputs": [
    {
     "data": {
      "text/html": [
       "<div>\n",
       "<style scoped>\n",
       "    .dataframe tbody tr th:only-of-type {\n",
       "        vertical-align: middle;\n",
       "    }\n",
       "\n",
       "    .dataframe tbody tr th {\n",
       "        vertical-align: top;\n",
       "    }\n",
       "\n",
       "    .dataframe thead th {\n",
       "        text-align: right;\n",
       "    }\n",
       "</style>\n",
       "<table border=\"1\" class=\"dataframe\">\n",
       "  <thead>\n",
       "    <tr style=\"text-align: right;\">\n",
       "      <th></th>\n",
       "      <th>SystemCodeNumber</th>\n",
       "      <th>Capacity</th>\n",
       "      <th>Occupancy</th>\n",
       "      <th>LastUpdated</th>\n",
       "    </tr>\n",
       "  </thead>\n",
       "  <tbody>\n",
       "    <tr>\n",
       "      <td>0</td>\n",
       "      <td>BHMBCCMKT01</td>\n",
       "      <td>577</td>\n",
       "      <td>61</td>\n",
       "      <td>2016-10-04 07:59:42</td>\n",
       "    </tr>\n",
       "    <tr>\n",
       "      <td>1</td>\n",
       "      <td>BHMBCCMKT01</td>\n",
       "      <td>577</td>\n",
       "      <td>64</td>\n",
       "      <td>2016-10-04 08:25:42</td>\n",
       "    </tr>\n",
       "    <tr>\n",
       "      <td>2</td>\n",
       "      <td>BHMBCCMKT01</td>\n",
       "      <td>577</td>\n",
       "      <td>80</td>\n",
       "      <td>2016-10-04 08:59:42</td>\n",
       "    </tr>\n",
       "    <tr>\n",
       "      <td>3</td>\n",
       "      <td>BHMBCCMKT01</td>\n",
       "      <td>577</td>\n",
       "      <td>107</td>\n",
       "      <td>2016-10-04 09:32:46</td>\n",
       "    </tr>\n",
       "    <tr>\n",
       "      <td>4</td>\n",
       "      <td>BHMBCCMKT01</td>\n",
       "      <td>577</td>\n",
       "      <td>150</td>\n",
       "      <td>2016-10-04 09:59:48</td>\n",
       "    </tr>\n",
       "  </tbody>\n",
       "</table>\n",
       "</div>"
      ],
      "text/plain": [
       "  SystemCodeNumber  Capacity  Occupancy          LastUpdated\n",
       "0      BHMBCCMKT01       577         61  2016-10-04 07:59:42\n",
       "1      BHMBCCMKT01       577         64  2016-10-04 08:25:42\n",
       "2      BHMBCCMKT01       577         80  2016-10-04 08:59:42\n",
       "3      BHMBCCMKT01       577        107  2016-10-04 09:32:46\n",
       "4      BHMBCCMKT01       577        150  2016-10-04 09:59:48"
      ]
     },
     "execution_count": 3,
     "metadata": {},
     "output_type": "execute_result"
    }
   ],
   "source": [
    "data.head()"
   ]
  },
  {
   "cell_type": "code",
   "execution_count": 4,
   "metadata": {},
   "outputs": [
    {
     "name": "stdout",
     "output_type": "stream",
     "text": [
      "<class 'pandas.core.frame.DataFrame'>\n",
      "RangeIndex: 35717 entries, 0 to 35716\n",
      "Data columns (total 4 columns):\n",
      "SystemCodeNumber    35717 non-null object\n",
      "Capacity            35717 non-null int64\n",
      "Occupancy           35717 non-null int64\n",
      "LastUpdated         35717 non-null object\n",
      "dtypes: int64(2), object(2)\n",
      "memory usage: 1.1+ MB\n"
     ]
    }
   ],
   "source": [
    "data.info()"
   ]
  },
  {
   "cell_type": "code",
   "execution_count": 5,
   "metadata": {},
   "outputs": [
    {
     "data": {
      "text/html": [
       "<div>\n",
       "<style scoped>\n",
       "    .dataframe tbody tr th:only-of-type {\n",
       "        vertical-align: middle;\n",
       "    }\n",
       "\n",
       "    .dataframe tbody tr th {\n",
       "        vertical-align: top;\n",
       "    }\n",
       "\n",
       "    .dataframe thead th {\n",
       "        text-align: right;\n",
       "    }\n",
       "</style>\n",
       "<table border=\"1\" class=\"dataframe\">\n",
       "  <thead>\n",
       "    <tr style=\"text-align: right;\">\n",
       "      <th></th>\n",
       "      <th>Capacity</th>\n",
       "      <th>Occupancy</th>\n",
       "    </tr>\n",
       "  </thead>\n",
       "  <tbody>\n",
       "    <tr>\n",
       "      <td>count</td>\n",
       "      <td>35717.000000</td>\n",
       "      <td>35717.000000</td>\n",
       "    </tr>\n",
       "    <tr>\n",
       "      <td>mean</td>\n",
       "      <td>1397.550130</td>\n",
       "      <td>642.228911</td>\n",
       "    </tr>\n",
       "    <tr>\n",
       "      <td>std</td>\n",
       "      <td>1179.326833</td>\n",
       "      <td>656.955535</td>\n",
       "    </tr>\n",
       "    <tr>\n",
       "      <td>min</td>\n",
       "      <td>220.000000</td>\n",
       "      <td>-8.000000</td>\n",
       "    </tr>\n",
       "    <tr>\n",
       "      <td>25%</td>\n",
       "      <td>500.000000</td>\n",
       "      <td>210.000000</td>\n",
       "    </tr>\n",
       "    <tr>\n",
       "      <td>50%</td>\n",
       "      <td>849.000000</td>\n",
       "      <td>446.000000</td>\n",
       "    </tr>\n",
       "    <tr>\n",
       "      <td>75%</td>\n",
       "      <td>2009.000000</td>\n",
       "      <td>798.000000</td>\n",
       "    </tr>\n",
       "    <tr>\n",
       "      <td>max</td>\n",
       "      <td>4675.000000</td>\n",
       "      <td>4327.000000</td>\n",
       "    </tr>\n",
       "  </tbody>\n",
       "</table>\n",
       "</div>"
      ],
      "text/plain": [
       "           Capacity     Occupancy\n",
       "count  35717.000000  35717.000000\n",
       "mean    1397.550130    642.228911\n",
       "std     1179.326833    656.955535\n",
       "min      220.000000     -8.000000\n",
       "25%      500.000000    210.000000\n",
       "50%      849.000000    446.000000\n",
       "75%     2009.000000    798.000000\n",
       "max     4675.000000   4327.000000"
      ]
     },
     "execution_count": 5,
     "metadata": {},
     "output_type": "execute_result"
    }
   ],
   "source": [
    "data.describe()"
   ]
  },
  {
   "cell_type": "code",
   "execution_count": 6,
   "metadata": {},
   "outputs": [
    {
     "data": {
      "text/plain": [
       "SystemCodeNumber    0\n",
       "Capacity            0\n",
       "Occupancy           0\n",
       "LastUpdated         0\n",
       "dtype: int64"
      ]
     },
     "execution_count": 6,
     "metadata": {},
     "output_type": "execute_result"
    }
   ],
   "source": [
    "data.isnull().sum()"
   ]
  },
  {
   "cell_type": "code",
   "execution_count": 7,
   "metadata": {},
   "outputs": [
    {
     "data": {
      "text/html": [
       "<div>\n",
       "<style scoped>\n",
       "    .dataframe tbody tr th:only-of-type {\n",
       "        vertical-align: middle;\n",
       "    }\n",
       "\n",
       "    .dataframe tbody tr th {\n",
       "        vertical-align: top;\n",
       "    }\n",
       "\n",
       "    .dataframe thead th {\n",
       "        text-align: right;\n",
       "    }\n",
       "</style>\n",
       "<table border=\"1\" class=\"dataframe\">\n",
       "  <thead>\n",
       "    <tr style=\"text-align: right;\">\n",
       "      <th></th>\n",
       "      <th>SystemCodeNumber</th>\n",
       "      <th>Capacity</th>\n",
       "      <th>Occupancy</th>\n",
       "      <th>LastUpdated</th>\n",
       "    </tr>\n",
       "  </thead>\n",
       "  <tbody>\n",
       "    <tr>\n",
       "      <td>23889</td>\n",
       "      <td>NIA North</td>\n",
       "      <td>480</td>\n",
       "      <td>-3</td>\n",
       "      <td>2016-10-16 15:57:16</td>\n",
       "    </tr>\n",
       "    <tr>\n",
       "      <td>23890</td>\n",
       "      <td>NIA North</td>\n",
       "      <td>480</td>\n",
       "      <td>-3</td>\n",
       "      <td>2016-10-16 16:31:17</td>\n",
       "    </tr>\n",
       "    <tr>\n",
       "      <td>23906</td>\n",
       "      <td>NIA North</td>\n",
       "      <td>480</td>\n",
       "      <td>-1</td>\n",
       "      <td>2016-10-18 15:27:59</td>\n",
       "    </tr>\n",
       "    <tr>\n",
       "      <td>23919</td>\n",
       "      <td>NIA North</td>\n",
       "      <td>480</td>\n",
       "      <td>-8</td>\n",
       "      <td>2016-10-28 13:02:43</td>\n",
       "    </tr>\n",
       "    <tr>\n",
       "      <td>23924</td>\n",
       "      <td>NIA North</td>\n",
       "      <td>480</td>\n",
       "      <td>-1</td>\n",
       "      <td>2016-10-28 15:29:41</td>\n",
       "    </tr>\n",
       "    <tr>\n",
       "      <td>23925</td>\n",
       "      <td>NIA North</td>\n",
       "      <td>480</td>\n",
       "      <td>-4</td>\n",
       "      <td>2016-10-28 16:02:40</td>\n",
       "    </tr>\n",
       "    <tr>\n",
       "      <td>23926</td>\n",
       "      <td>NIA North</td>\n",
       "      <td>480</td>\n",
       "      <td>-1</td>\n",
       "      <td>2016-10-28 16:29:42</td>\n",
       "    </tr>\n",
       "    <tr>\n",
       "      <td>23937</td>\n",
       "      <td>NIA North</td>\n",
       "      <td>480</td>\n",
       "      <td>-2</td>\n",
       "      <td>2016-10-29 12:59:51</td>\n",
       "    </tr>\n",
       "    <tr>\n",
       "      <td>23944</td>\n",
       "      <td>NIA North</td>\n",
       "      <td>480</td>\n",
       "      <td>-1</td>\n",
       "      <td>2016-10-29 16:26:53</td>\n",
       "    </tr>\n",
       "    <tr>\n",
       "      <td>23997</td>\n",
       "      <td>NIA North</td>\n",
       "      <td>480</td>\n",
       "      <td>-3</td>\n",
       "      <td>2016-11-10 16:00:15</td>\n",
       "    </tr>\n",
       "    <tr>\n",
       "      <td>24032</td>\n",
       "      <td>NIA North</td>\n",
       "      <td>480</td>\n",
       "      <td>-1</td>\n",
       "      <td>2016-11-30 15:28:40</td>\n",
       "    </tr>\n",
       "    <tr>\n",
       "      <td>24033</td>\n",
       "      <td>NIA North</td>\n",
       "      <td>480</td>\n",
       "      <td>-2</td>\n",
       "      <td>2016-11-30 16:01:39</td>\n",
       "    </tr>\n",
       "  </tbody>\n",
       "</table>\n",
       "</div>"
      ],
      "text/plain": [
       "      SystemCodeNumber  Capacity  Occupancy          LastUpdated\n",
       "23889        NIA North       480         -3  2016-10-16 15:57:16\n",
       "23890        NIA North       480         -3  2016-10-16 16:31:17\n",
       "23906        NIA North       480         -1  2016-10-18 15:27:59\n",
       "23919        NIA North       480         -8  2016-10-28 13:02:43\n",
       "23924        NIA North       480         -1  2016-10-28 15:29:41\n",
       "23925        NIA North       480         -4  2016-10-28 16:02:40\n",
       "23926        NIA North       480         -1  2016-10-28 16:29:42\n",
       "23937        NIA North       480         -2  2016-10-29 12:59:51\n",
       "23944        NIA North       480         -1  2016-10-29 16:26:53\n",
       "23997        NIA North       480         -3  2016-11-10 16:00:15\n",
       "24032        NIA North       480         -1  2016-11-30 15:28:40\n",
       "24033        NIA North       480         -2  2016-11-30 16:01:39"
      ]
     },
     "execution_count": 7,
     "metadata": {},
     "output_type": "execute_result"
    }
   ],
   "source": [
    "data[data['Occupancy']<0]"
   ]
  },
  {
   "cell_type": "code",
   "execution_count": 8,
   "metadata": {},
   "outputs": [
    {
     "data": {
      "text/plain": [
       "array(['BHMBCCMKT01', 'BHMBCCPST01', 'BHMBCCSNH01', 'BHMBCCTHL01',\n",
       "       'BHMBRCBRG01', 'BHMBRCBRG02', 'BHMBRCBRG03', 'BHMBRTARC01',\n",
       "       'BHMEURBRD01', 'BHMEURBRD02', 'BHMMBMMBX01', 'BHMNCPHST01',\n",
       "       'BHMNCPLDH01', 'BHMNCPNHS01', 'BHMNCPNST01', 'BHMNCPPLS01',\n",
       "       'BHMNCPRAN01', 'Broad Street', 'Bull Ring', 'NIA Car Parks',\n",
       "       'NIA North', 'NIA South', 'Others-CCCPS105a', 'Others-CCCPS119a',\n",
       "       'Others-CCCPS133', 'Others-CCCPS135a', 'Others-CCCPS202',\n",
       "       'Others-CCCPS8', 'Others-CCCPS98', 'Shopping'], dtype=object)"
      ]
     },
     "execution_count": 8,
     "metadata": {},
     "output_type": "execute_result"
    }
   ],
   "source": [
    "pd.unique(data['SystemCodeNumber'])"
   ]
  },
  {
   "cell_type": "code",
   "execution_count": 9,
   "metadata": {},
   "outputs": [
    {
     "data": {
      "text/plain": [
       "(30,)"
      ]
     },
     "execution_count": 9,
     "metadata": {},
     "output_type": "execute_result"
    }
   ],
   "source": [
    "pd.unique(data['SystemCodeNumber']).shape"
   ]
  },
  {
   "cell_type": "code",
   "execution_count": 10,
   "metadata": {},
   "outputs": [],
   "source": [
    "data['LastUpdated'] = pd.to_datetime(data['LastUpdated'])"
   ]
  },
  {
   "cell_type": "code",
   "execution_count": 11,
   "metadata": {},
   "outputs": [
    {
     "data": {
      "text/plain": [
       "0       2016-10-04 07:59:42\n",
       "1       2016-10-04 08:25:42\n",
       "2       2016-10-04 08:59:42\n",
       "3       2016-10-04 09:32:46\n",
       "4       2016-10-04 09:59:48\n",
       "                ...        \n",
       "35712   2016-12-19 14:30:33\n",
       "35713   2016-12-19 15:03:34\n",
       "35714   2016-12-19 15:29:33\n",
       "35715   2016-12-19 16:03:35\n",
       "35716   2016-12-19 16:30:35\n",
       "Name: LastUpdated, Length: 35717, dtype: datetime64[ns]"
      ]
     },
     "execution_count": 11,
     "metadata": {},
     "output_type": "execute_result"
    }
   ],
   "source": [
    "data['LastUpdated']"
   ]
  },
  {
   "cell_type": "code",
   "execution_count": 12,
   "metadata": {},
   "outputs": [
    {
     "data": {
      "text/plain": [
       "Timestamp('2016-10-04 07:46:28')"
      ]
     },
     "execution_count": 12,
     "metadata": {},
     "output_type": "execute_result"
    }
   ],
   "source": [
    "data['LastUpdated'].min()"
   ]
  },
  {
   "cell_type": "code",
   "execution_count": 13,
   "metadata": {},
   "outputs": [
    {
     "data": {
      "text/plain": [
       "Timestamp('2016-12-19 16:30:35')"
      ]
     },
     "execution_count": 13,
     "metadata": {},
     "output_type": "execute_result"
    }
   ],
   "source": [
    "data['LastUpdated'].max()"
   ]
  },
  {
   "cell_type": "code",
   "execution_count": 14,
   "metadata": {},
   "outputs": [
    {
     "data": {
      "text/plain": [
       "SystemCodeNumber\n",
       "BHMBCCMKT01         1312\n",
       "BHMBCCPST01         1276\n",
       "BHMBCCSNH01         1294\n",
       "BHMBCCTHL01         1312\n",
       "BHMBRCBRG01         1186\n",
       "BHMBRCBRG02         1186\n",
       "BHMBRCBRG03         1186\n",
       "BHMBRTARC01           88\n",
       "BHMEURBRD01         1312\n",
       "BHMEURBRD02         1276\n",
       "BHMMBMMBX01         1312\n",
       "BHMNCPHST01         1312\n",
       "BHMNCPLDH01         1292\n",
       "BHMNCPNHS01         1038\n",
       "BHMNCPNST01         1312\n",
       "BHMNCPPLS01         1291\n",
       "BHMNCPRAN01         1186\n",
       "Broad Street        1312\n",
       "Bull Ring           1186\n",
       "NIA Car Parks       1204\n",
       "NIA North            162\n",
       "NIA South           1204\n",
       "Others-CCCPS105a    1312\n",
       "Others-CCCPS119a    1312\n",
       "Others-CCCPS133     1294\n",
       "Others-CCCPS135a    1312\n",
       "Others-CCCPS202     1312\n",
       "Others-CCCPS8       1312\n",
       "Others-CCCPS98      1312\n",
       "Shopping            1312\n",
       "dtype: int64"
      ]
     },
     "execution_count": 14,
     "metadata": {},
     "output_type": "execute_result"
    }
   ],
   "source": [
    "data.groupby(by=['SystemCodeNumber']).size()"
   ]
  },
  {
   "cell_type": "code",
   "execution_count": 15,
   "metadata": {},
   "outputs": [],
   "source": [
    "pd.pivot_table?\n"
   ]
  },
  {
   "cell_type": "code",
   "execution_count": 16,
   "metadata": {},
   "outputs": [
    {
     "ename": "KeyError",
     "evalue": "61",
     "output_type": "error",
     "traceback": [
      "\u001b[0;31m---------------------------------------------------------------------------\u001b[0m",
      "\u001b[0;31mKeyError\u001b[0m                                  Traceback (most recent call last)",
      "\u001b[0;32m<ipython-input-16-d2370f89b6a7>\u001b[0m in \u001b[0;36m<module>\u001b[0;34m\u001b[0m\n\u001b[1;32m      4\u001b[0m     \u001b[0mindex\u001b[0m\u001b[0;34m=\u001b[0m\u001b[0mpd\u001b[0m\u001b[0;34m.\u001b[0m\u001b[0mto_datetime\u001b[0m\u001b[0;34m(\u001b[0m\u001b[0mdata\u001b[0m\u001b[0;34m[\u001b[0m\u001b[0;34m'LastUpdated'\u001b[0m\u001b[0;34m]\u001b[0m\u001b[0;34m)\u001b[0m\u001b[0;34m,\u001b[0m\u001b[0;34m\u001b[0m\u001b[0;34m\u001b[0m\u001b[0m\n\u001b[1;32m      5\u001b[0m     \u001b[0mcolumns\u001b[0m\u001b[0;34m=\u001b[0m\u001b[0mdata\u001b[0m\u001b[0;34m[\u001b[0m\u001b[0;34m'SystemCodeNumber'\u001b[0m\u001b[0;34m]\u001b[0m\u001b[0;34m,\u001b[0m\u001b[0;34m\u001b[0m\u001b[0;34m\u001b[0m\u001b[0m\n\u001b[0;32m----> 6\u001b[0;31m     \u001b[0mfill_value\u001b[0m\u001b[0;34m=\u001b[0m\u001b[0;36m0\u001b[0m\u001b[0;34m\u001b[0m\u001b[0;34m\u001b[0m\u001b[0m\n\u001b[0m\u001b[1;32m      7\u001b[0m )\n",
      "\u001b[0;32m/opt/anaconda3/lib/python3.7/site-packages/pandas/core/reshape/pivot.py\u001b[0m in \u001b[0;36mpivot_table\u001b[0;34m(data, values, index, columns, aggfunc, fill_value, margins, dropna, margins_name, observed)\u001b[0m\n\u001b[1;32m     70\u001b[0m         \u001b[0;32mfor\u001b[0m \u001b[0mi\u001b[0m \u001b[0;32min\u001b[0m \u001b[0mvalues\u001b[0m\u001b[0;34m:\u001b[0m\u001b[0;34m\u001b[0m\u001b[0;34m\u001b[0m\u001b[0m\n\u001b[1;32m     71\u001b[0m             \u001b[0;32mif\u001b[0m \u001b[0mi\u001b[0m \u001b[0;32mnot\u001b[0m \u001b[0;32min\u001b[0m \u001b[0mdata\u001b[0m\u001b[0;34m:\u001b[0m\u001b[0;34m\u001b[0m\u001b[0;34m\u001b[0m\u001b[0m\n\u001b[0;32m---> 72\u001b[0;31m                 \u001b[0;32mraise\u001b[0m \u001b[0mKeyError\u001b[0m\u001b[0;34m(\u001b[0m\u001b[0mi\u001b[0m\u001b[0;34m)\u001b[0m\u001b[0;34m\u001b[0m\u001b[0;34m\u001b[0m\u001b[0m\n\u001b[0m\u001b[1;32m     73\u001b[0m \u001b[0;34m\u001b[0m\u001b[0m\n\u001b[1;32m     74\u001b[0m         \u001b[0mto_filter\u001b[0m \u001b[0;34m=\u001b[0m \u001b[0;34m[\u001b[0m\u001b[0;34m]\u001b[0m\u001b[0;34m\u001b[0m\u001b[0;34m\u001b[0m\u001b[0m\n",
      "\u001b[0;31mKeyError\u001b[0m: 61"
     ]
    }
   ],
   "source": [
    "pd.pivot_table(\n",
    "    data,\n",
    "    values=data['Occupancy'],\n",
    "    index=pd.to_datetime(data['LastUpdated']),\n",
    "    columns=data['SystemCodeNumber'],\n",
    "    fill_value=0\n",
    ")"
   ]
  },
  {
   "cell_type": "code",
   "execution_count": null,
   "metadata": {},
   "outputs": [],
   "source": []
  }
 ],
 "metadata": {
  "kernelspec": {
   "display_name": "Python 3",
   "language": "python",
   "name": "python3"
  },
  "language_info": {
   "codemirror_mode": {
    "name": "ipython",
    "version": 3
   },
   "file_extension": ".py",
   "mimetype": "text/x-python",
   "name": "python",
   "nbconvert_exporter": "python",
   "pygments_lexer": "ipython3",
   "version": "3.7.4"
  }
 },
 "nbformat": 4,
 "nbformat_minor": 2
}
